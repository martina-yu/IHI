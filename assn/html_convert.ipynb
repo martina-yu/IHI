{
 "cells": [
  {
   "cell_type": "code",
   "execution_count": 1,
   "id": "9d4e866f",
   "metadata": {},
   "outputs": [
    {
     "name": "stdout",
     "output_type": "stream",
     "text": [
      "Converting 'IHI_assignment2.ipynb' to HTML...\n"
     ]
    },
    {
     "name": "stderr",
     "output_type": "stream",
     "text": [
      "[NbConvertApp] Converting notebook ./IHI_assignment2.ipynb to html\n",
      "[NbConvertApp] WARNING | Alternative text is missing on 1 image(s).\n",
      "[NbConvertApp] Writing 514264 bytes to IHI_assignment2.html\n"
     ]
    },
    {
     "name": "stdout",
     "output_type": "stream",
     "text": [
      "Conversion successful! The HTML file 'IHI_assignment2.html' is saved in the same directory.\n"
     ]
    }
   ],
   "source": [
    "import os\n",
    "import subprocess\n",
    "\n",
    "file_path = './IHI_assignment2.ipynb'\n",
    "file_name = os.path.basename(file_path)\n",
    "\n",
    "try:\n",
    "    print(f\"Converting '{file_name}' to HTML...\")\n",
    "    subprocess.run([\"jupyter\", \"nbconvert\", file_path, \"--to\", \"html\"], check=True)\n",
    "    print(f\"Conversion successful! The HTML file '{file_name[:-5]}html' is saved in the same directory.\")\n",
    "except subprocess.CalledProcessError as e:\n",
    "    print(f\"Failed to convert the notebook. Please ensure Jupyter is installed and in your PATH. Error: {e}\")\n",
    "     "
   ]
  }
 ],
 "metadata": {
  "kernelspec": {
   "display_name": "ml_env",
   "language": "python",
   "name": "python3"
  },
  "language_info": {
   "codemirror_mode": {
    "name": "ipython",
    "version": 3
   },
   "file_extension": ".py",
   "mimetype": "text/x-python",
   "name": "python",
   "nbconvert_exporter": "python",
   "pygments_lexer": "ipython3",
   "version": "3.9.23"
  }
 },
 "nbformat": 4,
 "nbformat_minor": 5
}
